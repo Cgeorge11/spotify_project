{
 "cells": [
  {
   "cell_type": "markdown",
   "metadata": {},
   "source": [
    "importing python library Spotipy. This library allows access to spotify platform data via Spotify Web API.\n",
    "\n",
    "Connects to spotify application dashboard and user gives authorization. "
   ]
  },
  {
   "cell_type": "code",
   "execution_count": 10,
   "metadata": {},
   "outputs": [],
   "source": [
    "import spotipy\n",
    "from spotipy.oauth2 import SpotifyClientCredentials\n",
    "import pandas as pd\n",
    "\n",
    "\n",
    "cid = '28ef188b46d14e2585c1431745641d6c'\n",
    "secret = '1be35d0fac034ace9f336ce3ec8601d8'\n",
    "client_credentials_manager = SpotifyClientCredentials(client_id=cid, client_secret=secret)\n",
    "sp = spotipy.Spotify(client_credentials_manager = client_credentials_manager)"
   ]
  },
  {
   "cell_type": "code",
   "execution_count": 11,
   "metadata": {},
   "outputs": [],
   "source": [
    "artist_name = []\n",
    "track_name = []\n",
    "popularity = []\n",
    "track_id = []\n",
    "for i in range(0,60,50):\n",
    "    track_results = sp.search(q='year:2018', type='track', limit=50,offset=i)\n",
    "    for i, t in enumerate(track_results['tracks']['items']):\n",
    "        artist_name.append(t['artists'][0]['name'])\n",
    "        track_name.append(t['name'])\n",
    "        track_id.append(t['id'])\n",
    "        popularity.append(t['popularity'])"
   ]
  },
  {
   "cell_type": "markdown",
   "metadata": {},
   "source": [
    "https://medium.com/@maxtingle/getting-started-with-spotifys-api-spotipy-197c3dc6353b"
   ]
  },
  {
   "cell_type": "code",
   "execution_count": 12,
   "metadata": {},
   "outputs": [
    {
     "name": "stdout",
     "output_type": "stream",
     "text": [
      "(100, 4)\n"
     ]
    },
    {
     "data": {
      "text/html": [
       "<div>\n",
       "<style scoped>\n",
       "    .dataframe tbody tr th:only-of-type {\n",
       "        vertical-align: middle;\n",
       "    }\n",
       "\n",
       "    .dataframe tbody tr th {\n",
       "        vertical-align: top;\n",
       "    }\n",
       "\n",
       "    .dataframe thead th {\n",
       "        text-align: right;\n",
       "    }\n",
       "</style>\n",
       "<table border=\"1\" class=\"dataframe\">\n",
       "  <thead>\n",
       "    <tr style=\"text-align: right;\">\n",
       "      <th></th>\n",
       "      <th>artist_name</th>\n",
       "      <th>track_name</th>\n",
       "      <th>track_id</th>\n",
       "      <th>popularity</th>\n",
       "    </tr>\n",
       "  </thead>\n",
       "  <tbody>\n",
       "    <tr>\n",
       "      <th>0</th>\n",
       "      <td>The Neighbourhood</td>\n",
       "      <td>Softcore</td>\n",
       "      <td>2K7xn816oNHJZ0aVqdQsha</td>\n",
       "      <td>93</td>\n",
       "    </tr>\n",
       "    <tr>\n",
       "      <th>1</th>\n",
       "      <td>Schoolgirl Byebye</td>\n",
       "      <td>Year,2015</td>\n",
       "      <td>0UsmyJDsst2xhX1ZiFF3JW</td>\n",
       "      <td>26</td>\n",
       "    </tr>\n",
       "    <tr>\n",
       "      <th>2</th>\n",
       "      <td>Juice WRLD</td>\n",
       "      <td>All Girls Are The Same</td>\n",
       "      <td>4VXIryQMWpIdGgYR4TrjT1</td>\n",
       "      <td>87</td>\n",
       "    </tr>\n",
       "    <tr>\n",
       "      <th>3</th>\n",
       "      <td>Fleetwood Mac</td>\n",
       "      <td>Rhiannon (Will You Ever Win) - 2018 Remaster</td>\n",
       "      <td>4fbwTO3DJ2qryMddov9RbB</td>\n",
       "      <td>52</td>\n",
       "    </tr>\n",
       "    <tr>\n",
       "      <th>4</th>\n",
       "      <td>Juice WRLD</td>\n",
       "      <td>Lucid Dreams</td>\n",
       "      <td>285pBltuF7vW8TeWk8hdRR</td>\n",
       "      <td>88</td>\n",
       "    </tr>\n",
       "  </tbody>\n",
       "</table>\n",
       "</div>"
      ],
      "text/plain": [
       "         artist_name                                    track_name  \\\n",
       "0  The Neighbourhood                                      Softcore   \n",
       "1  Schoolgirl Byebye                                     Year,2015   \n",
       "2         Juice WRLD                        All Girls Are The Same   \n",
       "3      Fleetwood Mac  Rhiannon (Will You Ever Win) - 2018 Remaster   \n",
       "4         Juice WRLD                                  Lucid Dreams   \n",
       "\n",
       "                 track_id  popularity  \n",
       "0  2K7xn816oNHJZ0aVqdQsha          93  \n",
       "1  0UsmyJDsst2xhX1ZiFF3JW          26  \n",
       "2  4VXIryQMWpIdGgYR4TrjT1          87  \n",
       "3  4fbwTO3DJ2qryMddov9RbB          52  \n",
       "4  285pBltuF7vW8TeWk8hdRR          88  "
      ]
     },
     "execution_count": 12,
     "metadata": {},
     "output_type": "execute_result"
    }
   ],
   "source": [
    "track_dataframe = pd.DataFrame({'artist_name' : artist_name, 'track_name' : track_name, 'track_id' : track_id, 'popularity' : popularity})\n",
    "print(track_dataframe.shape)\n",
    "track_dataframe.head()"
   ]
  }
 ],
 "metadata": {
  "interpreter": {
   "hash": "e2ed27d9d5b4957625b55bd736d5187396f5fd0887d6f55f195cd35b1fa8d62e"
  },
  "kernelspec": {
   "display_name": "Python 3.10.1 64-bit",
   "language": "python",
   "name": "python3"
  },
  "language_info": {
   "codemirror_mode": {
    "name": "ipython",
    "version": 3
   },
   "file_extension": ".py",
   "mimetype": "text/x-python",
   "name": "python",
   "nbconvert_exporter": "python",
   "pygments_lexer": "ipython3",
   "version": "3.10.1"
  },
  "orig_nbformat": 4
 },
 "nbformat": 4,
 "nbformat_minor": 2
}
